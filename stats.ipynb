{
 "cells": [
  {
   "cell_type": "code",
   "execution_count": 7,
   "metadata": {},
   "outputs": [
    {
     "ename": "ModuleNotFoundError",
     "evalue": "No module named 'matplotlib'",
     "output_type": "error",
     "traceback": [
      "\u001b[0;31m---------------------------------------------------------------------------\u001b[0m",
      "\u001b[0;31mModuleNotFoundError\u001b[0m                       Traceback (most recent call last)",
      "Cell \u001b[0;32mIn[7], line 2\u001b[0m\n\u001b[1;32m      1\u001b[0m \u001b[38;5;28;01mimport\u001b[39;00m\u001b[38;5;250m \u001b[39m\u001b[38;5;21;01mpandas\u001b[39;00m\u001b[38;5;250m \u001b[39m\u001b[38;5;28;01mas\u001b[39;00m\u001b[38;5;250m \u001b[39m\u001b[38;5;21;01mpd\u001b[39;00m\n\u001b[0;32m----> 2\u001b[0m \u001b[38;5;28;01mimport\u001b[39;00m\u001b[38;5;250m \u001b[39m\u001b[38;5;21;01mmatplotlib\u001b[39;00m\u001b[38;5;21;01m.\u001b[39;00m\u001b[38;5;21;01mpyplot\u001b[39;00m\u001b[38;5;250m \u001b[39m\u001b[38;5;28;01mas\u001b[39;00m\u001b[38;5;250m \u001b[39m\u001b[38;5;21;01mplt\u001b[39;00m\n\u001b[1;32m      3\u001b[0m \u001b[38;5;28;01mimport\u001b[39;00m\u001b[38;5;250m \u001b[39m\u001b[38;5;21;01mseaborn\u001b[39;00m\u001b[38;5;250m \u001b[39m\u001b[38;5;28;01mas\u001b[39;00m\u001b[38;5;250m \u001b[39m\u001b[38;5;21;01msns\u001b[39;00m\n\u001b[1;32m      5\u001b[0m df_sintetico \u001b[38;5;241m=\u001b[39m pd\u001b[38;5;241m.\u001b[39mread_csv(\u001b[38;5;124m\"\u001b[39m\u001b[38;5;124mhttps://raw.githubusercontent.com/calriz/microdados-inep-public/refs/heads/main/enem23.csv\u001b[39m\u001b[38;5;124m\"\u001b[39m)\n",
      "\u001b[0;31mModuleNotFoundError\u001b[0m: No module named 'matplotlib'"
     ]
    }
   ],
   "source": [
    "import pandas as pd\n",
    "import matplotlib.pyplot as plt\n",
    "import seaborn as sns\n",
    "\n",
    "df_sintetico = pd.read_csv(\"https://raw.githubusercontent.com/calriz/microdados-inep-public/refs/heads/main/enem23.csv\")"
   ]
  },
  {
   "cell_type": "code",
   "execution_count": null,
   "metadata": {},
   "outputs": [],
   "source": [
    "#@title (A) Contagem de Alunos\n",
    "\n",
    "total_alunos = df_sintetico[\"CO_PESSOA_FISICA\"].nunique()\n",
    "\n",
    "contagem_regiao = df_sintetico.groupby(\"NO_REGIAO\")[\"CO_PESSOA_FISICA\"].count()\n",
    "contagem_estado = df_sintetico.groupby(\"SG_UF\")[\"CO_PESSOA_FISICA\"].count()\n",
    "contagem_municipio = df_sintetico.groupby(\"NO_MUNICIPIO\")[\"CO_PESSOA_FISICA\"].count()\n",
    "contagem_escola = df_sintetico.groupby(\"CO_ENTIDADE\")[\"CO_PESSOA_FISICA\"].count()"
   ]
  },
  {
   "cell_type": "code",
   "execution_count": null,
   "metadata": {},
   "outputs": [],
   "source": [
    "#@title (B) Média de Notas\n",
    "\n",
    "media_notas_geral = df_sintetico[\"NU_NOTA_REDACAO\"].mean()\n",
    "\n",
    "media_notas_regiao = df_sintetico.groupby(\"NO_REGIAO\")[\"NU_NOTA_REDACAO\"].count()\n",
    "media_notas_estado = df_sintetico.groupby(\"SG_UF\")[\"NU_NOTA_REDACAO\"].count()\n",
    "media_notas_municipio = df_sintetico.groupby(\"NO_MUNICIPIO\")[\"NU_NOTA_REDACAO\"].count()\n",
    "media_notas_escola = df_sintetico.groupby(\"CO_ENTIDADE\")[\"NU_NOTA_REDACAO\"].count()"
   ]
  },
  {
   "cell_type": "code",
   "execution_count": null,
   "metadata": {},
   "outputs": [],
   "source": [
    "#@title (C) Percentil 25, 50, 75\n",
    "\n",
    "q = [0.25, 0.5, 0.75]\n",
    "percentis = df_sintetico[\"NU_NOTA_REDACAO\"].quantile(q)\n",
    "\n",
    "percentis_regiao = df_sintetico.groupby(\"NO_REGIAO\")[\"NU_NOTA_REDACAO\"].quantile(q)\n",
    "percentis_estado = df_sintetico.groupby(\"SG_UF\")[\"NU_NOTA_REDACAO\"].quantile(q)\n",
    "percentis_municipio = df_sintetico.groupby(\"NO_MUNICIPIO\")[\"NU_NOTA_REDACAO\"].quantile(q)\n",
    "percentis_escola = df_sintetico.groupby(\"CO_ENTIDADE\")[\"NU_NOTA_REDACAO\"].quantile(q)"
   ]
  },
  {
   "cell_type": "code",
   "execution_count": null,
   "metadata": {},
   "outputs": [],
   "source": [
    "#@title (D) Desvio Padrão\n",
    "\n",
    "desvio_padrao_notas = df_sintetico[\"NU_NOTA_REDACAO\"].std()\n",
    "\n",
    "desvio_padrao_notas_regiao = df_sintetico.groupby(\"NO_REGIAO\")[\"NU_NOTA_REDACAO\"].std()\n",
    "desvio_padrao_notas_estado = df_sintetico.groupby(\"SG_UF\")[\"NU_NOTA_REDACAO\"].std()\n",
    "desvio_padrao_notas_municipio = df_sintetico.groupby(\"NO_MUNICIPIO\")[\"NU_NOTA_REDACAO\"].std()\n",
    "desvio_padrao_notas_escola = df_sintetico.groupby(\"CO_ENTIDADE\")[\"NU_NOTA_REDACAO\"].std()"
   ]
  },
  {
   "cell_type": "code",
   "execution_count": null,
   "metadata": {},
   "outputs": [],
   "source": [
    "#@title (E) Mediana de Notas\n",
    "\n",
    "mediana_notas = df_sintetico[\"NU_NOTA_REDACAO\"].median()\n",
    "\n",
    "mediana_notas_regiao = df_sintetico.groupby(\"NO_REGIAO\")[\"NU_NOTA_REDACAO\"].median()\n",
    "mediana_notas_estado = df_sintetico.groupby(\"SG_UF\")[\"NU_NOTA_REDACAO\"].median()\n",
    "mediana_notas_municipio = df_sintetico.groupby(\"NO_MUNICIPIO\")[\"NU_NOTA_REDACAO\"].median()\n",
    "mediana_notas_escola = df_sintetico.groupby(\"CO_ENTIDADE\")[\"NU_NOTA_REDACAO\"].median()"
   ]
  },
  {
   "cell_type": "code",
   "execution_count": null,
   "metadata": {},
   "outputs": [],
   "source": [
    "#@title Idades\n",
    "\n",
    "# Faixas etárias estreitas (por 1 e 5 anos)\n",
    "\n",
    "bins_1ano = list(range(df_sintetico[\"NU_IDADE\"].min(), df_sintetico[\"NU_IDADE\"].max()))\n",
    "df_sintetico[\"FAIXA_1ANO\"] = pd.cut(df_sintetico[\"IDADE\"], bins=bins_1ano)\n",
    "faixa_1ano = df_sintetico.groupby(\"FAIXA_1ANO\")[\"CO_PESSOA_FISICA\"].count()\n",
    "\n",
    "bins_5anos = [0, 5, 10, 15, 20, 25, 30]\n",
    "labels_5anos = [\"0-4\", \"5-9\", \"10-14\", \"15-19\", \"20-24\", \"25-29\"]\n",
    "df_sintetico[\"FAIXA_5ANOS\"] = pd.cut(df_sintetico[\"NU_IDADE\"], bins=bins_5anos, labels=labels_5anos)"
   ]
  },
  {
   "cell_type": "code",
   "execution_count": null,
   "metadata": {},
   "outputs": [],
   "source": [
    "#@title (A) Histogramas (distribuição de notas, idades etc.)\n",
    "\n",
    "# Histograma de Notas\n",
    "plt.figure(figzize=(8,5))\n",
    "sns.histplot(data=df_sintetico, x=\"NU_NOTA_REDACAO\", bins=20, kde=True)\n",
    "plt.title(\"Distribuição de Notas (Sintético)\")\n",
    "plt.show()\n",
    "\n",
    "# Histograma de Idades\n",
    "plt.figure(figsize=(8,5))\n",
    "sns.histplot(data=df_sintetico, x=\"NU_IDADE\", bins=6, kde=True)\n",
    "plt.title(\"Distribuição de Idades (Sintético)\")\n",
    "plt.show()"
   ]
  },
  {
   "cell_type": "code",
   "execution_count": null,
   "metadata": {},
   "outputs": [],
   "source": [
    "#@title (B) Gráficos de Barras\n",
    "media_regiao = df_sintetico.groupby(\"SG_UF\")[\"NU_NOTA_REDACAO\"].mean().reset_index()\n",
    "\n",
    "plt.figure(figsize=(8,5))\n",
    "sns.barplot(data=media_regiao, x=\"SG_UF\", y=\"NU_NOTA_REDACAO\")\n",
    "plt.title(\"Média de Notas por Região (Sintético)\")\n",
    "plt.show()"
   ]
  },
  {
   "cell_type": "code",
   "execution_count": null,
   "metadata": {},
   "outputs": [],
   "source": [
    "#@title (C) Boxplot\n",
    "plt.figure(figsize=(8,5))\n",
    "sns.boxplot(data=df_sintetico, x=\"NO_REGIAO\", y=\"NU_NOTA_REDACAO\")\n",
    "plt.title(\"Boxplot de Notas por Região (Sintético)\")\n",
    "plt.show()\n",
    "\n",
    "plt.figure(figsize=(8,5))\n",
    "sns.boxplot(data=df_sintetico, x=\"NO_REGIAO\", y=\"NU_NOTA_REDACAO\")\n",
    "plt.title(\"Média de Notas por Município (Sintético)\")\n",
    "plt.show()"
   ]
  }
 ],
 "metadata": {
  "kernelspec": {
   "display_name": "venv",
   "language": "python",
   "name": "python3"
  },
  "language_info": {
   "codemirror_mode": {
    "name": "ipython",
    "version": 3
   },
   "file_extension": ".py",
   "mimetype": "text/x-python",
   "name": "python",
   "nbconvert_exporter": "python",
   "pygments_lexer": "ipython3",
   "version": "3.12.7"
  }
 },
 "nbformat": 4,
 "nbformat_minor": 2
}
